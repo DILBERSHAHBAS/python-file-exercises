{
 "cells": [
  {
   "cell_type": "code",
   "execution_count": 5,
   "id": "2eea7956",
   "metadata": {},
   "outputs": [
    {
     "name": "stdout",
     "output_type": "stream",
     "text": [
      "The file newfile.txt has 1 lines.\n"
     ]
    }
   ],
   "source": [
    "#1\n",
    "file = open('newfile.txt','a')\n",
    "file.write(\"Write a program that reads a text file and counts the number of lines in the file\")\n",
    "file=open('newfile.txt', 'r')\n",
    "lines = file.readlines()\n",
    "line_count = len(lines)\n",
    "print(f'The file newfile.txt has {line_count} lines.')"
   ]
  },
  {
   "cell_type": "code",
   "execution_count": 2,
   "id": "f86dd884",
   "metadata": {},
   "outputs": [
    {
     "name": "stdout",
     "output_type": "stream",
     "text": [
      "Enter the filename: 455\n",
      "Enter the number of lines to print: 44\n"
     ]
    },
    {
     "ename": "FileNotFoundError",
     "evalue": "[Errno 2] No such file or directory: '455'",
     "output_type": "error",
     "traceback": [
      "\u001b[1;31m---------------------------------------------------------------------------\u001b[0m",
      "\u001b[1;31mFileNotFoundError\u001b[0m                         Traceback (most recent call last)",
      "\u001b[1;32m~\\AppData\\Local\\Temp\\ipykernel_14352\\36914568.py\u001b[0m in \u001b[0;36m<module>\u001b[1;34m\u001b[0m\n\u001b[0;32m      2\u001b[0m \u001b[0mfilename\u001b[0m \u001b[1;33m=\u001b[0m \u001b[0minput\u001b[0m\u001b[1;33m(\u001b[0m\u001b[1;34m\"Enter the filename: \"\u001b[0m\u001b[1;33m)\u001b[0m\u001b[1;33m\u001b[0m\u001b[1;33m\u001b[0m\u001b[0m\n\u001b[0;32m      3\u001b[0m \u001b[0mn\u001b[0m \u001b[1;33m=\u001b[0m \u001b[0mint\u001b[0m\u001b[1;33m(\u001b[0m\u001b[0minput\u001b[0m\u001b[1;33m(\u001b[0m\u001b[1;34m\"Enter the number of lines to print: \"\u001b[0m\u001b[1;33m)\u001b[0m\u001b[1;33m)\u001b[0m\u001b[1;33m\u001b[0m\u001b[1;33m\u001b[0m\u001b[0m\n\u001b[1;32m----> 4\u001b[1;33m \u001b[1;32mwith\u001b[0m \u001b[0mopen\u001b[0m\u001b[1;33m(\u001b[0m\u001b[0mfilename\u001b[0m\u001b[1;33m,\u001b[0m \u001b[1;34m'r'\u001b[0m\u001b[1;33m)\u001b[0m \u001b[1;32mas\u001b[0m \u001b[0mfile\u001b[0m\u001b[1;33m:\u001b[0m\u001b[1;33m\u001b[0m\u001b[1;33m\u001b[0m\u001b[0m\n\u001b[0m\u001b[0;32m      5\u001b[0m     \u001b[1;32mfor\u001b[0m \u001b[0mi\u001b[0m \u001b[1;32min\u001b[0m \u001b[0mrange\u001b[0m\u001b[1;33m(\u001b[0m\u001b[0mn\u001b[0m\u001b[1;33m)\u001b[0m\u001b[1;33m:\u001b[0m\u001b[1;33m\u001b[0m\u001b[1;33m\u001b[0m\u001b[0m\n\u001b[0;32m      6\u001b[0m         \u001b[0mline\u001b[0m \u001b[1;33m=\u001b[0m \u001b[0mfile\u001b[0m\u001b[1;33m.\u001b[0m\u001b[0mreadline\u001b[0m\u001b[1;33m(\u001b[0m\u001b[1;33m)\u001b[0m\u001b[1;33m\u001b[0m\u001b[1;33m\u001b[0m\u001b[0m\n",
      "\u001b[1;31mFileNotFoundError\u001b[0m: [Errno 2] No such file or directory: '455'"
     ]
    }
   ],
   "source": [
    "#2\n",
    "filename       = input(\"Enter the filename: \")\n",
    "n = int(input(\"Enter the number of lines to print: \"))\n",
    "with open(filename, 'r') as file:\n",
    "    for i in range(n):\n",
    "        line = file.readline()\n",
    "        if not line:\n",
    "            break\n",
    "        print(line.strip())"
   ]
  },
  {
   "cell_type": "code",
   "execution_count": null,
   "id": "8713237e",
   "metadata": {},
   "outputs": [],
   "source": []
  },
  {
   "cell_type": "code",
   "execution_count": 1,
   "id": "33b5516c",
   "metadata": {},
   "outputs": [],
   "source": [
    "#4\n",
    "f = open('newfile.txt','r')\n",
    "lines = f.readlines()\n",
    "non_blank_lines = [line for line in lines if line.strip() != '']\n",
    "\n",
    "f=open('newfile.txt', 'w')\n",
    "f.writelines(non_blank_lines)    "
   ]
  },
  {
   "cell_type": "code",
   "execution_count": null,
   "id": "cf5a353f",
   "metadata": {},
   "outputs": [],
   "source": [
    "#5\n",
    "string_to_remove = input(\"Enter the string you want to remove: \")\n",
    "file_to_filter = input(\"Enter the name of the file to filter: \")\n",
    "output_file = input(\"Enter the name of the output file: \")\n",
    "\n",
    "with open(file_to_filter, \"r\") as input_file, open(output_file, \"w\") as output:\n",
    "    for line in input_file:\n",
    "        if string_to_remove not in line:\n",
    "            output.write(line)"
   ]
  },
  {
   "cell_type": "code",
   "execution_count": null,
   "id": "339d0426",
   "metadata": {},
   "outputs": [],
   "source": [
    "#7\n",
    "file_to_capitalize = input(\"Enter the name of the file to capitalize: \")\n",
    "output_file = input(\"Enter the name of the output file: \")\n",
    "\n",
    "with open(file_to_capitalize, \"r\") as input_file, open(output_file, \"w\") as output:\n",
    "    for line in input_file:\n",
    "        capitalized_line = line.title()"
   ]
  },
  {
   "cell_type": "code",
   "execution_count": null,
   "id": "40d69b6d",
   "metadata": {},
   "outputs": [],
   "source": [
    "#15\n",
    "import json\n",
    "\n",
    "file_to_read = input(\"Enter the name of the JSON file to read: \")\n",
    "sort_field = input(\"Enter the field to sort by: \")\n",
    "\n",
    "with open(file_to_read, \"r\") as input_file:\n",
    "    data = json.load(input_file)\n",
    "    sorted_data = sorted(data, key=lambda x: x[sort_field])\n",
    "    for item in sorted_data:\n",
    "        print(f\"{item['name']}: {item['age']}\")"
   ]
  },
  {
   "cell_type": "code",
   "execution_count": null,
   "id": "b7e2535a",
   "metadata": {},
   "outputs": [],
   "source": [
    "#17\n",
    "original_word = input(\"Enter the word to replace: \")\n",
    "replacement_word = input(\"Enter the replacement word: \")\n",
    "file_to_replace = input(\"Enter the name of the file to replace: \")\n",
    "output_file = input(\"Enter the name of the output file: \")\n",
    "\n",
    "with open(file_to_replace, \"r\") as input_file, open(output_file, \"w\") as output:\n",
    "    for line in input_file:\n",
    "        replaced_line = line.replace(original_word, replacement_word)\n",
    "        output.write(replaced_line)"
   ]
  },
  {
   "cell_type": "code",
   "execution_count": null,
   "id": "a0636310",
   "metadata": {},
   "outputs": [],
   "source": []
  }
 ],
 "metadata": {
  "kernelspec": {
   "display_name": "Python 3 (ipykernel)",
   "language": "python",
   "name": "python3"
  },
  "language_info": {
   "codemirror_mode": {
    "name": "ipython",
    "version": 3
   },
   "file_extension": ".py",
   "mimetype": "text/x-python",
   "name": "python",
   "nbconvert_exporter": "python",
   "pygments_lexer": "ipython3",
   "version": "3.9.13"
  }
 },
 "nbformat": 4,
 "nbformat_minor": 5
}
